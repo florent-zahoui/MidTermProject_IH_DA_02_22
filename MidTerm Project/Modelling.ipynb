{
 "cells": [
  {
   "cell_type": "code",
   "execution_count": 1,
   "id": "a616bd81",
   "metadata": {},
   "outputs": [],
   "source": [
    "import pandas as pd\n",
    "import numpy as np\n",
    "import matplotlib.pyplot as plt\n",
    "import seaborn as sns\n",
    "import sklearn.preprocessing as sklearn\n",
    "from sklearn.preprocessing import StandardScaler\n",
    "from sklearn.preprocessing import quantile_transform\n",
    "from sklearn.preprocessing import minmax_scale\n",
    "\n",
    "from sklearn.preprocessing import PowerTransformer\n",
    "from sklearn.preprocessing import QuantileTransformer\n",
    "\n",
    "from scipy.stats import boxcox\n",
    "import sklearn.preprocessing as sklearn\n",
    "from sklearn.preprocessing import PowerTransformer\n",
    "from sklearn.preprocessing import (StandardScaler, MinMaxScaler)\n",
    "from sklearn.preprocessing import OneHotEncoder\n",
    "from sklearn.preprocessing import OrdinalEncoder\n",
    "from sklearn.model_selection import train_test_split\n",
    "from sklearn.linear_model import LinearRegression\n",
    "from sklearn.metrics import r2_score\n",
    "from sklearn.metrics import mean_squared_error as mse\n",
    "from sklearn.metrics import mean_absolute_error as mae\n",
    "from scipy.stats import iqr\n",
    "from scipy.stats import scoreatpercentile as pct\n",
    "from sklearn.linear_model import Ridge\n",
    "from sklearn.linear_model import Lasso\n",
    "from sklearn.neighbors import KNeighborsRegressor\n",
    "from sklearn.feature_selection import VarianceThreshold\n",
    "from sklearn.feature_selection import RFE\n",
    "import statsmodels.api as sm"
   ]
  },
  {
   "cell_type": "code",
   "execution_count": 2,
   "id": "7f05a303",
   "metadata": {},
   "outputs": [],
   "source": [
    "df = pd.read_excel(\"Data/midterm_project_cleaned.xlsx\")"
   ]
  },
  {
   "cell_type": "code",
   "execution_count": 3,
   "id": "bfbc45ad",
   "metadata": {
    "scrolled": true
   },
   "outputs": [
    {
     "data": {
      "text/plain": [
       "(21596, 25)"
      ]
     },
     "execution_count": 3,
     "metadata": {},
     "output_type": "execute_result"
    }
   ],
   "source": [
    "df.shape"
   ]
  },
  {
   "cell_type": "code",
   "execution_count": 4,
   "id": "3ff88490",
   "metadata": {},
   "outputs": [
    {
     "data": {
      "text/plain": [
       "98103    601\n",
       "98038    589\n",
       "98115    583\n",
       "98052    574\n",
       "98117    553\n",
       "        ... \n",
       "98102    104\n",
       "98010    100\n",
       "98024     80\n",
       "98148     57\n",
       "98039     50\n",
       "Name: zipcode, Length: 70, dtype: int64"
      ]
     },
     "execution_count": 4,
     "metadata": {},
     "output_type": "execute_result"
    }
   ],
   "source": [
    "df.zipcode.value_counts()"
   ]
  },
  {
   "cell_type": "code",
   "execution_count": 5,
   "id": "4a7887b6",
   "metadata": {},
   "outputs": [],
   "source": [
    "df.drop([\"Unnamed: 0\"], axis = 1, inplace = True)"
   ]
  },
  {
   "cell_type": "code",
   "execution_count": 13,
   "id": "8b83d5ff",
   "metadata": {},
   "outputs": [],
   "source": [
    "price_by_zipcode = df.groupby('zipcode', as_index=False)['price'].mean()"
   ]
  },
  {
   "cell_type": "code",
   "execution_count": 14,
   "id": "11f76280",
   "metadata": {},
   "outputs": [
    {
     "data": {
      "text/html": [
       "<div>\n",
       "<style scoped>\n",
       "    .dataframe tbody tr th:only-of-type {\n",
       "        vertical-align: middle;\n",
       "    }\n",
       "\n",
       "    .dataframe tbody tr th {\n",
       "        vertical-align: top;\n",
       "    }\n",
       "\n",
       "    .dataframe thead th {\n",
       "        text-align: right;\n",
       "    }\n",
       "</style>\n",
       "<table border=\"1\" class=\"dataframe\">\n",
       "  <thead>\n",
       "    <tr style=\"text-align: right;\">\n",
       "      <th></th>\n",
       "      <th>zipcode</th>\n",
       "      <th>price</th>\n",
       "    </tr>\n",
       "  </thead>\n",
       "  <tbody>\n",
       "    <tr>\n",
       "      <th>0</th>\n",
       "      <td>98001</td>\n",
       "      <td>2.811949e+05</td>\n",
       "    </tr>\n",
       "    <tr>\n",
       "      <th>1</th>\n",
       "      <td>98002</td>\n",
       "      <td>2.342840e+05</td>\n",
       "    </tr>\n",
       "    <tr>\n",
       "      <th>2</th>\n",
       "      <td>98003</td>\n",
       "      <td>2.941113e+05</td>\n",
       "    </tr>\n",
       "    <tr>\n",
       "      <th>3</th>\n",
       "      <td>98004</td>\n",
       "      <td>1.356524e+06</td>\n",
       "    </tr>\n",
       "    <tr>\n",
       "      <th>4</th>\n",
       "      <td>98005</td>\n",
       "      <td>8.102897e+05</td>\n",
       "    </tr>\n",
       "    <tr>\n",
       "      <th>...</th>\n",
       "      <td>...</td>\n",
       "      <td>...</td>\n",
       "    </tr>\n",
       "    <tr>\n",
       "      <th>65</th>\n",
       "      <td>98177</td>\n",
       "      <td>6.764194e+05</td>\n",
       "    </tr>\n",
       "    <tr>\n",
       "      <th>66</th>\n",
       "      <td>98178</td>\n",
       "      <td>3.106128e+05</td>\n",
       "    </tr>\n",
       "    <tr>\n",
       "      <th>67</th>\n",
       "      <td>98188</td>\n",
       "      <td>2.890783e+05</td>\n",
       "    </tr>\n",
       "    <tr>\n",
       "      <th>68</th>\n",
       "      <td>98198</td>\n",
       "      <td>3.028967e+05</td>\n",
       "    </tr>\n",
       "    <tr>\n",
       "      <th>69</th>\n",
       "      <td>98199</td>\n",
       "      <td>7.921879e+05</td>\n",
       "    </tr>\n",
       "  </tbody>\n",
       "</table>\n",
       "<p>70 rows × 2 columns</p>\n",
       "</div>"
      ],
      "text/plain": [
       "    zipcode         price\n",
       "0     98001  2.811949e+05\n",
       "1     98002  2.342840e+05\n",
       "2     98003  2.941113e+05\n",
       "3     98004  1.356524e+06\n",
       "4     98005  8.102897e+05\n",
       "..      ...           ...\n",
       "65    98177  6.764194e+05\n",
       "66    98178  3.106128e+05\n",
       "67    98188  2.890783e+05\n",
       "68    98198  3.028967e+05\n",
       "69    98199  7.921879e+05\n",
       "\n",
       "[70 rows x 2 columns]"
      ]
     },
     "execution_count": 14,
     "metadata": {},
     "output_type": "execute_result"
    }
   ],
   "source": [
    "price_by_zipcode"
   ]
  },
  {
   "cell_type": "code",
   "execution_count": 15,
   "id": "c7928900",
   "metadata": {},
   "outputs": [
    {
     "data": {
      "text/plain": [
       "pandas.core.frame.DataFrame"
      ]
     },
     "execution_count": 15,
     "metadata": {},
     "output_type": "execute_result"
    }
   ],
   "source": [
    "type(price_by_zipcode)"
   ]
  },
  {
   "cell_type": "code",
   "execution_count": null,
   "id": "fcb8a167",
   "metadata": {},
   "outputs": [],
   "source": [
    "len(price_by_zipcode)"
   ]
  },
  {
   "cell_type": "code",
   "execution_count": null,
   "id": "7a9af602",
   "metadata": {},
   "outputs": [],
   "source": [
    "# Dropping highly correlated columns sqft_living and sqft_above\n",
    "## sqft_living: living area of the home; area that can be heated or cooled \n",
    "## sqft_above: area above the basement; living area minus attic\n",
    "df.drop([\"sqft_above\"], axis = 1, inplace = True)"
   ]
  },
  {
   "cell_type": "code",
   "execution_count": null,
   "id": "05fe48ae",
   "metadata": {},
   "outputs": [],
   "source": [
    "decade_dict = {\"Category A\": 1, \"Category B\": 2, \"Category C\": 3, \"Category D\": 4}\n",
    "df = df.replace({\"decade\": decade_dict})"
   ]
  },
  {
   "cell_type": "code",
   "execution_count": null,
   "id": "2624ebda",
   "metadata": {
    "scrolled": true
   },
   "outputs": [],
   "source": [
    "df.info()"
   ]
  },
  {
   "cell_type": "code",
   "execution_count": null,
   "id": "64236261",
   "metadata": {},
   "outputs": [],
   "source": [
    "# Looking for highly correlated columns\n",
    "\n",
    "correlation_matrix = df.corr()\n",
    "correlation_matrix"
   ]
  },
  {
   "cell_type": "code",
   "execution_count": null,
   "id": "31ff5682",
   "metadata": {},
   "outputs": [],
   "source": [
    "fig5, ax = plt.subplots(figsize = (12,12))\n",
    "\n",
    "ax.set_title(\"Heatmap\")\n",
    "\n",
    "sns.heatmap(correlation_matrix,  \n",
    "            cmap = \"coolwarm\", \n",
    "            linewidth = 1, \n",
    "            annot = True, \n",
    "            fmt = \".2f\")"
   ]
  },
  {
   "cell_type": "markdown",
   "id": "8766e857",
   "metadata": {},
   "source": [
    "fig, axe = plt.subplots(2,3,figsize = (14,12))\n",
    "\n",
    "sns.histplot(df, x=df.loc[:, \"sqft_living\"], ax = axe[0,0]) \n",
    "sns.histplot(df, x=df.loc[:, \"sqft_lot\"], ax = axe [0,1])\n",
    "sns.histplot(df, x=df.loc[:, \"sqft_basement\"], ax = axe [0,2])\n",
    "sns.histplot(df, x=df.loc[:, \"sqft_living15\"], ax = axe [1,0])\n",
    "sns.histplot(df, x=df.loc[:, \"sqft_lot15\"], ax = axe [1,1])"
   ]
  },
  {
   "cell_type": "code",
   "execution_count": null,
   "id": "59b2471f",
   "metadata": {},
   "outputs": [],
   "source": [
    "# X/y split\n",
    "X = df.drop(\"price\", axis=1)\n",
    "y = df[\"price\"]"
   ]
  },
  {
   "cell_type": "code",
   "execution_count": null,
   "id": "5a4bde41",
   "metadata": {
    "scrolled": false
   },
   "outputs": [],
   "source": [
    "# Train/test split\n",
    "X_train, X_test, y_train, y_test=train_test_split(X, y, test_size=.30,random_state=123)"
   ]
  },
  {
   "cell_type": "code",
   "execution_count": null,
   "id": "ad908f6f",
   "metadata": {},
   "outputs": [],
   "source": [
    "X_train.reset_index\n",
    "y_train.reset_index"
   ]
  },
  {
   "cell_type": "code",
   "execution_count": null,
   "id": "c23cb96a",
   "metadata": {},
   "outputs": [],
   "source": [
    "X_train.columns"
   ]
  },
  {
   "cell_type": "code",
   "execution_count": null,
   "id": "5ba7dee3",
   "metadata": {},
   "outputs": [],
   "source": [
    "# 3.Splitting into X_train_num, X_train_cat, X_test_num, X_test_cat\n",
    "\n",
    "X_train_num = X_train[[\"sqft_living\", \"sqft_basement\", \"sqft_lot\", \"sqft_living15\"]]\n",
    "X_train_cat = X_train[[\"bedrooms\", \"bathrooms\", \"floors\", \"lat\", \"long\", \"yr_renovated\", \"waterfront\", \"view\", \"condition\", \"grade\", \"decade\", \"geo1\", \"geo2\"]]\n",
    "X_test_num = X_test[[\"sqft_living\", \"sqft_basement\", \"sqft_lot\", \"sqft_living15\"]]\n",
    "X_test_cat = X_test[[\"bedrooms\", \"bathrooms\", \"floors\", \"lat\", \"long\", \"yr_renovated\", \"waterfront\", \"view\", \"condition\", \"grade\", \"decade\", \"geo1\", \"geo2\"]]"
   ]
  },
  {
   "cell_type": "code",
   "execution_count": null,
   "id": "8a3b5193",
   "metadata": {},
   "outputs": [],
   "source": [
    "# 4.Applying minmax scaler to X_train_num, X_test_num (scaling)\n",
    "\n",
    "# Fitting on X_train_num\n",
    "scaler = StandardScaler() \n",
    "scaler.fit(X_train_num)\n",
    "\n",
    "# Transforming X_train num and X_test_num\n",
    "X_train_num_scaled = pd.DataFrame(scaler.transform(X_train_num), columns=X_train_num.columns).reset_index(drop=True)\n",
    "X_test_num_scaled = pd.DataFrame(scaler.transform(X_test_num), columns=X_test_num.columns).reset_index(drop=True)"
   ]
  },
  {
   "cell_type": "markdown",
   "id": "dc4c1f6d",
   "metadata": {},
   "source": [
    "# 5.a: Applying power transformer (normalizing) to sqft_living\n",
    "\n",
    "# Fitting on X_train_num\n",
    "\n",
    "transformer = PowerTransformer()\n",
    "sqft_living_transformer = transformer.fit(X_train_num_scaled['sqft_living'].to_numpy().reshape(-1,1))\n",
    "\n",
    "# Normalizing X_train_num and X_test_num\n",
    "\n",
    "X_train_num_scaled[\"sqft_living\"] = sqft_living_transformer.transform(X_train_num_scaled[\"sqft_living\"].to_numpy().reshape(-1,1))\n",
    "X_test_num_scaled[\"sqft_living\"] = sqft_living_transformer.transform(X_test_num_scaled[\"sqft_living\"].to_numpy().reshape(-1,1))"
   ]
  },
  {
   "cell_type": "markdown",
   "id": "5e0e2a40",
   "metadata": {},
   "source": [
    "# Plotting sqft_living distribution after normalization\n",
    "fig = plt.subplots()\n",
    "\n",
    "sns.histplot(X_train_num_scaled, x=X_train_num_scaled.loc[:, \"sqft_living\"])"
   ]
  },
  {
   "cell_type": "markdown",
   "id": "928c9031",
   "metadata": {},
   "source": [
    "# 5.b: Applying quantile transformer (normalizing) to sqft_lot\n",
    "\n",
    "# Fitting on X_train_num\n",
    "\n",
    "transformer = QuantileTransformer(output_distribution='normal')\n",
    "sqft_living_transformer = transformer.fit(X_train_num_scaled['sqft_lot'].to_numpy().reshape(-1,1))\n",
    "\n",
    "# Normalizing X_train_num and X_test_num\n",
    "\n",
    "X_train_num_scaled[\"sqft_lot\"] = sqft_living_transformer.transform(X_train_num_scaled[\"sqft_lot\"].to_numpy().reshape(-1,1))\n",
    "X_test_num_scaled[\"sqft_lot\"] = sqft_living_transformer.transform(X_test_num_scaled[\"sqft_lot\"].to_numpy().reshape(-1,1))"
   ]
  },
  {
   "cell_type": "markdown",
   "id": "37b73400",
   "metadata": {},
   "source": [
    "fig = plt.subplots()\n",
    "\n",
    "sns.histplot(X_train_num_scaled, x=X_train_num_scaled.loc[:, \"sqft_lot\"])"
   ]
  },
  {
   "cell_type": "markdown",
   "id": "a9e755bf",
   "metadata": {},
   "source": [
    "# 5.c: Applying quantile transformer (normalizing) to sqft_living15\n",
    "\n",
    "# Fitting on X_train_num\n",
    "\n",
    "transformer = QuantileTransformer(output_distribution='normal')\n",
    "sqft_living_transformer = transformer.fit(X_train_num_scaled['sqft_living15'].to_numpy().reshape(-1,1))\n",
    "\n",
    "# Normalizing X_train_num and X_test_num\n",
    "\n",
    "X_train_num_scaled[\"sqft_living15\"] = sqft_living_transformer.transform(X_train_num_scaled[\"sqft_living15\"].to_numpy().reshape(-1,1))\n",
    "X_test_num_scaled[\"sqft_living15\"] = sqft_living_transformer.transform(X_test_num_scaled[\"sqft_living15\"].to_numpy().reshape(-1,1))"
   ]
  },
  {
   "cell_type": "markdown",
   "id": "38b09312",
   "metadata": {},
   "source": [
    "fig = plt.subplots()\n",
    "\n",
    "sns.histplot(X_train_num_scaled, x=X_train_num_scaled.loc[:, \"sqft_living15\"])"
   ]
  },
  {
   "cell_type": "markdown",
   "id": "ece0ad62",
   "metadata": {},
   "source": [
    "# 5.d: Applying quantile transformer (normalizing) to sqft_lot15\n",
    "\n",
    "# Fitting on X_train_num\n",
    "\n",
    "transformer = QuantileTransformer(output_distribution='normal')\n",
    "sqft_living_transformer = transformer.fit(X_train_num_scaled['sqft_lot15'].to_numpy().reshape(-1,1))\n",
    "\n",
    "# Normalizing X_train_num and X_test_num\n",
    "\n",
    "X_train_num_scaled[\"sqft_lot15\"] = sqft_living_transformer.transform(X_train_num_scaled[\"sqft_lot15\"].to_numpy().reshape(-1,1))\n",
    "X_test_num_scaled[\"sqft_lot15\"] = sqft_living_transformer.transform(X_test_num_scaled[\"sqft_lot15\"].to_numpy().reshape(-1,1))"
   ]
  },
  {
   "cell_type": "markdown",
   "id": "43d0249f",
   "metadata": {},
   "source": [
    "fig = plt.subplots()\n",
    "\n",
    "sns.histplot(X_train_num_scaled, x=X_train_num_scaled.loc[:, \"sqft_lot15\"])"
   ]
  },
  {
   "cell_type": "code",
   "execution_count": null,
   "id": "03039a3c",
   "metadata": {},
   "outputs": [],
   "source": [
    "# 6. Splitting categorical columns into nominal and categorical ones\n",
    "\n",
    "X_train_cat_nom = X_train_cat[[\"geo1\", \"geo2\"]]\n",
    "X_test_cat_nom = X_test_cat[[\"geo1\", \"geo2\"]]\n",
    "\n",
    "# Leaving only ordinal \n",
    "\n",
    "X_train_cat_ord = X_train_cat[[\"bedrooms\", \"bathrooms\", \"floors\", \"waterfront\", \"lat\", \"yr_renovated\", \"view\", \"condition\", \"grade\", \"decade\"]]\n",
    "X_test_cat_ord = X_test_cat[[\"bedrooms\", \"bathrooms\", \"floors\", \"waterfront\", \"lat\", \"yr_renovated\", \"view\", \"condition\", \"grade\", \"decade\"]]\n"
   ]
  },
  {
   "cell_type": "code",
   "execution_count": null,
   "id": "93f77ec3",
   "metadata": {},
   "outputs": [],
   "source": [
    "# 6.a Hot encoding nominal columns\n",
    "\n",
    "X_train_cat_nom_encoded = pd.get_dummies(X_train_cat_nom, drop_first = True)\n",
    "X_test_cat_nom_encoded = pd.get_dummies(X_test_cat_nom, drop_first = True)"
   ]
  },
  {
   "cell_type": "markdown",
   "id": "379c2de8",
   "metadata": {},
   "source": [
    "X_test_cat_nom_encoded.describe()"
   ]
  },
  {
   "cell_type": "code",
   "execution_count": null,
   "id": "48fa746c",
   "metadata": {},
   "outputs": [],
   "source": [
    "# 6.b Reseting indexes before concatenating\n",
    "\n",
    "X_train_cat_nom_encoded.reset_index(drop=True, inplace=True)\n",
    "X_test_cat_nom_encoded.reset_index(drop=True, inplace=True)\n",
    "X_train_cat_ord.reset_index(drop=True, inplace=True)\n",
    "X_test_cat_ord.reset_index(drop=True, inplace=True)"
   ]
  },
  {
   "cell_type": "code",
   "execution_count": null,
   "id": "3f6ba028",
   "metadata": {
    "scrolled": true
   },
   "outputs": [],
   "source": [
    "X_test_cat_ord.head()"
   ]
  },
  {
   "cell_type": "code",
   "execution_count": null,
   "id": "1c497917",
   "metadata": {},
   "outputs": [],
   "source": [
    "# 6.c Concatenating nominal and ordinal\n",
    "\n",
    "X_train_cat_ready = pd.concat([X_train_cat_nom_encoded, X_train_cat_ord], axis = 1)\n",
    "X_test_cat_ready = pd.concat([X_test_cat_nom_encoded, X_test_cat_ord], axis = 1)"
   ]
  },
  {
   "cell_type": "code",
   "execution_count": null,
   "id": "45a64a26",
   "metadata": {},
   "outputs": [],
   "source": [
    "# Concatenating X_train and X_test dataframes\n",
    "\n",
    "X_train_num_scaled.reset_index(drop=True, inplace=True)\n",
    "X_train_cat.reset_index(drop=True, inplace = True)\n",
    "X_test_num_scaled.reset_index(drop=True, inplace=True)\n",
    "X_test_cat.reset_index(drop=True, inplace = True)\n",
    "\n",
    "\n",
    "X_train_ready = pd.concat([X_train_num_scaled, X_train_cat_ready], axis = 1)\n",
    "X_test_ready = pd.concat([X_test_num_scaled, X_test_cat_ready], axis = 1)"
   ]
  },
  {
   "cell_type": "code",
   "execution_count": null,
   "id": "e19a6fb2",
   "metadata": {},
   "outputs": [],
   "source": [
    "model=LinearRegression()    \n",
    "model.fit(X_train_ready, y_train)   "
   ]
  },
  {
   "cell_type": "code",
   "execution_count": null,
   "id": "7849a275",
   "metadata": {},
   "outputs": [],
   "source": [
    "model.score(X_test_ready, y_test)"
   ]
  },
  {
   "cell_type": "code",
   "execution_count": null,
   "id": "262a8794",
   "metadata": {},
   "outputs": [],
   "source": [
    "# Running a prediction on X_train_ready to compare the model score with the one from X_test_ready\n",
    "\n",
    "model.score(X_train_ready, y_train)"
   ]
  },
  {
   "cell_type": "code",
   "execution_count": null,
   "id": "1efcab24",
   "metadata": {
    "scrolled": true
   },
   "outputs": [],
   "source": [
    "features_importances = pd.DataFrame(data={\n",
    "    'Attribute': X_train_ready.columns,\n",
    "    'Importance': abs(model.coef_)\n",
    "})\n",
    "features_importances = features_importances.sort_values(by='Importance', ascending=False)\n",
    "\n",
    "plt.bar(x=features_importances['Attribute'], height=features_importances['Importance'], color='#087E8B')\n",
    "plt.title('Feature importances obtained from coefficients', size=20)\n",
    "plt.xticks(rotation='vertical')\n",
    "plt.show()"
   ]
  },
  {
   "cell_type": "code",
   "execution_count": null,
   "id": "6e4253d3",
   "metadata": {},
   "outputs": [],
   "source": [
    "y_pred=model.predict(X_test_ready)   "
   ]
  },
  {
   "cell_type": "code",
   "execution_count": null,
   "id": "3dd6fd62",
   "metadata": {},
   "outputs": [],
   "source": [
    "R2=r2_score(y_test,y_pred)\n",
    "R2"
   ]
  },
  {
   "cell_type": "code",
   "execution_count": null,
   "id": "f5f095e8",
   "metadata": {},
   "outputs": [],
   "source": [
    "Adj_R2= 1 - (1-R2)*(len(y_test)-1)/(len(y_test)-X_test_ready.shape[1]-1)\n",
    "Adj_R2"
   ]
  },
  {
   "cell_type": "code",
   "execution_count": null,
   "id": "72b55e2f",
   "metadata": {},
   "outputs": [],
   "source": []
  },
  {
   "cell_type": "code",
   "execution_count": null,
   "id": "d92cb471",
   "metadata": {},
   "outputs": [],
   "source": []
  }
 ],
 "metadata": {
  "kernelspec": {
   "display_name": "Python 3 (ipykernel)",
   "language": "python",
   "name": "python3"
  },
  "language_info": {
   "codemirror_mode": {
    "name": "ipython",
    "version": 3
   },
   "file_extension": ".py",
   "mimetype": "text/x-python",
   "name": "python",
   "nbconvert_exporter": "python",
   "pygments_lexer": "ipython3",
   "version": "3.9.7"
  }
 },
 "nbformat": 4,
 "nbformat_minor": 5
}
