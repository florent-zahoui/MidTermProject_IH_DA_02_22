{
 "cells": [
  {
   "cell_type": "code",
   "execution_count": 1,
   "id": "5f703981",
   "metadata": {},
   "outputs": [],
   "source": [
    "import pandas as pd\n",
    "import numpy as np\n",
    "import matplotlib.pyplot as plt\n",
    "import seaborn as sns\n",
    "import sklearn.preprocessing as sklearn\n",
    "from sklearn.preprocessing import StandardScaler\n",
    "from sklearn.preprocessing import quantile_transform\n",
    "from sklearn.preprocessing import minmax_scale\n",
    "\n",
    "from sklearn.preprocessing import PowerTransformer\n",
    "from sklearn.preprocessing import QuantileTransformer\n",
    "\n",
    "from scipy.stats import boxcox\n",
    "import sklearn.preprocessing as sklearn\n",
    "from sklearn.preprocessing import PowerTransformer\n",
    "from sklearn.preprocessing import (StandardScaler, MinMaxScaler)\n",
    "from sklearn.preprocessing import OneHotEncoder\n",
    "from sklearn.preprocessing import OrdinalEncoder\n",
    "from sklearn.model_selection import train_test_split\n",
    "from sklearn.linear_model import LinearRegression\n",
    "from sklearn.metrics import r2_score\n",
    "from sklearn.metrics import mean_squared_error as mse\n",
    "from sklearn.metrics import mean_absolute_error as mae\n",
    "from scipy.stats import iqr\n",
    "from scipy.stats import scoreatpercentile as pct\n",
    "from sklearn.linear_model import Ridge\n",
    "from sklearn.linear_model import Lasso\n",
    "from sklearn.neighbors import KNeighborsRegressor\n",
    "from sklearn.feature_selection import VarianceThreshold\n",
    "from sklearn.feature_selection import RFE\n",
    "import statsmodels.api as sm"
   ]
  },
  {
   "cell_type": "code",
   "execution_count": 2,
   "id": "ab1475b9",
   "metadata": {},
   "outputs": [],
   "source": [
    "df = pd.read_excel(\"Data/midterm_project_cleaned.xlsx\")"
   ]
  },
  {
   "cell_type": "code",
   "execution_count": 3,
   "id": "5757d53c",
   "metadata": {
    "scrolled": true
   },
   "outputs": [
    {
     "data": {
      "text/plain": [
       "(21596, 25)"
      ]
     },
     "execution_count": 3,
     "metadata": {},
     "output_type": "execute_result"
    }
   ],
   "source": [
    "df.shape"
   ]
  },
  {
   "cell_type": "code",
   "execution_count": 4,
   "id": "d9b5930a",
   "metadata": {},
   "outputs": [
    {
     "data": {
      "text/plain": [
       "98103    601\n",
       "98038    589\n",
       "98115    583\n",
       "98052    574\n",
       "98117    553\n",
       "        ... \n",
       "98102    104\n",
       "98010    100\n",
       "98024     80\n",
       "98148     57\n",
       "98039     50\n",
       "Name: zipcode, Length: 70, dtype: int64"
      ]
     },
     "execution_count": 4,
     "metadata": {},
     "output_type": "execute_result"
    }
   ],
   "source": [
    "df.zipcode.value_counts()"
   ]
  },
  {
   "cell_type": "code",
   "execution_count": 5,
   "id": "cd9e81a0",
   "metadata": {},
   "outputs": [],
   "source": [
    "df.drop([\"Unnamed: 0\"], axis = 1, inplace = True)"
   ]
  },
  {
   "cell_type": "code",
   "execution_count": 6,
   "id": "cd526c58",
   "metadata": {},
   "outputs": [],
   "source": [
    "df['avg_price_by_zipcode'] = round(df.groupby(['zipcode'])['price'].transform('mean'),2)"
   ]
  },
  {
   "cell_type": "code",
   "execution_count": 171,
   "id": "0828a364",
   "metadata": {},
   "outputs": [
    {
     "data": {
      "text/html": [
       "<div>\n",
       "<style scoped>\n",
       "    .dataframe tbody tr th:only-of-type {\n",
       "        vertical-align: middle;\n",
       "    }\n",
       "\n",
       "    .dataframe tbody tr th {\n",
       "        vertical-align: top;\n",
       "    }\n",
       "\n",
       "    .dataframe thead th {\n",
       "        text-align: right;\n",
       "    }\n",
       "</style>\n",
       "<table border=\"1\" class=\"dataframe\">\n",
       "  <thead>\n",
       "    <tr style=\"text-align: right;\">\n",
       "      <th></th>\n",
       "      <th>bedrooms</th>\n",
       "      <th>bathrooms</th>\n",
       "      <th>sqft_living</th>\n",
       "      <th>sqft_lot</th>\n",
       "      <th>floors</th>\n",
       "      <th>waterfront</th>\n",
       "      <th>view</th>\n",
       "      <th>condition</th>\n",
       "      <th>grade</th>\n",
       "      <th>sqft_basement</th>\n",
       "      <th>...</th>\n",
       "      <th>sqft_living15</th>\n",
       "      <th>sqft_lot15</th>\n",
       "      <th>price</th>\n",
       "      <th>renovated</th>\n",
       "      <th>basement</th>\n",
       "      <th>decade</th>\n",
       "      <th>geo1</th>\n",
       "      <th>geo2</th>\n",
       "      <th>avg_price_by_zipcode</th>\n",
       "      <th>avg_price_by_zipcode_binned</th>\n",
       "    </tr>\n",
       "  </thead>\n",
       "  <tbody>\n",
       "    <tr>\n",
       "      <th>0</th>\n",
       "      <td>3</td>\n",
       "      <td>1.00</td>\n",
       "      <td>1180</td>\n",
       "      <td>5650</td>\n",
       "      <td>1.0</td>\n",
       "      <td>0</td>\n",
       "      <td>0</td>\n",
       "      <td>3</td>\n",
       "      <td>7</td>\n",
       "      <td>0</td>\n",
       "      <td>...</td>\n",
       "      <td>1340</td>\n",
       "      <td>5650</td>\n",
       "      <td>221900</td>\n",
       "      <td>False</td>\n",
       "      <td>False</td>\n",
       "      <td>2</td>\n",
       "      <td>centre</td>\n",
       "      <td>west</td>\n",
       "      <td>310612.76</td>\n",
       "      <td>1</td>\n",
       "    </tr>\n",
       "    <tr>\n",
       "      <th>1</th>\n",
       "      <td>3</td>\n",
       "      <td>2.25</td>\n",
       "      <td>2570</td>\n",
       "      <td>7242</td>\n",
       "      <td>2.0</td>\n",
       "      <td>0</td>\n",
       "      <td>0</td>\n",
       "      <td>3</td>\n",
       "      <td>7</td>\n",
       "      <td>400</td>\n",
       "      <td>...</td>\n",
       "      <td>1690</td>\n",
       "      <td>7639</td>\n",
       "      <td>538000</td>\n",
       "      <td>True</td>\n",
       "      <td>True</td>\n",
       "      <td>2</td>\n",
       "      <td>north</td>\n",
       "      <td>west</td>\n",
       "      <td>469928.77</td>\n",
       "      <td>3</td>\n",
       "    </tr>\n",
       "    <tr>\n",
       "      <th>2</th>\n",
       "      <td>2</td>\n",
       "      <td>1.00</td>\n",
       "      <td>770</td>\n",
       "      <td>10000</td>\n",
       "      <td>1.0</td>\n",
       "      <td>0</td>\n",
       "      <td>0</td>\n",
       "      <td>3</td>\n",
       "      <td>6</td>\n",
       "      <td>0</td>\n",
       "      <td>...</td>\n",
       "      <td>2720</td>\n",
       "      <td>8062</td>\n",
       "      <td>180000</td>\n",
       "      <td>False</td>\n",
       "      <td>False</td>\n",
       "      <td>2</td>\n",
       "      <td>north</td>\n",
       "      <td>west</td>\n",
       "      <td>462488.87</td>\n",
       "      <td>3</td>\n",
       "    </tr>\n",
       "    <tr>\n",
       "      <th>3</th>\n",
       "      <td>4</td>\n",
       "      <td>3.00</td>\n",
       "      <td>1960</td>\n",
       "      <td>5000</td>\n",
       "      <td>1.0</td>\n",
       "      <td>0</td>\n",
       "      <td>0</td>\n",
       "      <td>5</td>\n",
       "      <td>7</td>\n",
       "      <td>910</td>\n",
       "      <td>...</td>\n",
       "      <td>1360</td>\n",
       "      <td>5000</td>\n",
       "      <td>604000</td>\n",
       "      <td>False</td>\n",
       "      <td>True</td>\n",
       "      <td>3</td>\n",
       "      <td>centre</td>\n",
       "      <td>west</td>\n",
       "      <td>551768.52</td>\n",
       "      <td>3</td>\n",
       "    </tr>\n",
       "    <tr>\n",
       "      <th>4</th>\n",
       "      <td>3</td>\n",
       "      <td>2.00</td>\n",
       "      <td>1680</td>\n",
       "      <td>8080</td>\n",
       "      <td>1.0</td>\n",
       "      <td>0</td>\n",
       "      <td>0</td>\n",
       "      <td>3</td>\n",
       "      <td>8</td>\n",
       "      <td>0</td>\n",
       "      <td>...</td>\n",
       "      <td>1800</td>\n",
       "      <td>7503</td>\n",
       "      <td>510000</td>\n",
       "      <td>False</td>\n",
       "      <td>False</td>\n",
       "      <td>3</td>\n",
       "      <td>north</td>\n",
       "      <td>centre</td>\n",
       "      <td>685675.84</td>\n",
       "      <td>5</td>\n",
       "    </tr>\n",
       "    <tr>\n",
       "      <th>5</th>\n",
       "      <td>4</td>\n",
       "      <td>4.50</td>\n",
       "      <td>5420</td>\n",
       "      <td>101930</td>\n",
       "      <td>1.0</td>\n",
       "      <td>0</td>\n",
       "      <td>0</td>\n",
       "      <td>3</td>\n",
       "      <td>11</td>\n",
       "      <td>1530</td>\n",
       "      <td>...</td>\n",
       "      <td>4760</td>\n",
       "      <td>101930</td>\n",
       "      <td>1230000</td>\n",
       "      <td>False</td>\n",
       "      <td>True</td>\n",
       "      <td>4</td>\n",
       "      <td>north</td>\n",
       "      <td>centre</td>\n",
       "      <td>677215.03</td>\n",
       "      <td>4</td>\n",
       "    </tr>\n",
       "    <tr>\n",
       "      <th>6</th>\n",
       "      <td>3</td>\n",
       "      <td>2.25</td>\n",
       "      <td>1715</td>\n",
       "      <td>6819</td>\n",
       "      <td>2.0</td>\n",
       "      <td>0</td>\n",
       "      <td>0</td>\n",
       "      <td>3</td>\n",
       "      <td>7</td>\n",
       "      <td>0</td>\n",
       "      <td>...</td>\n",
       "      <td>2238</td>\n",
       "      <td>6819</td>\n",
       "      <td>257500</td>\n",
       "      <td>False</td>\n",
       "      <td>False</td>\n",
       "      <td>4</td>\n",
       "      <td>south</td>\n",
       "      <td>west</td>\n",
       "      <td>294111.28</td>\n",
       "      <td>1</td>\n",
       "    </tr>\n",
       "    <tr>\n",
       "      <th>7</th>\n",
       "      <td>3</td>\n",
       "      <td>1.50</td>\n",
       "      <td>1060</td>\n",
       "      <td>9711</td>\n",
       "      <td>1.0</td>\n",
       "      <td>0</td>\n",
       "      <td>0</td>\n",
       "      <td>3</td>\n",
       "      <td>7</td>\n",
       "      <td>0</td>\n",
       "      <td>...</td>\n",
       "      <td>1650</td>\n",
       "      <td>9711</td>\n",
       "      <td>291850</td>\n",
       "      <td>False</td>\n",
       "      <td>False</td>\n",
       "      <td>3</td>\n",
       "      <td>centre</td>\n",
       "      <td>west</td>\n",
       "      <td>302896.74</td>\n",
       "      <td>1</td>\n",
       "    </tr>\n",
       "    <tr>\n",
       "      <th>8</th>\n",
       "      <td>3</td>\n",
       "      <td>1.00</td>\n",
       "      <td>1780</td>\n",
       "      <td>7470</td>\n",
       "      <td>1.0</td>\n",
       "      <td>0</td>\n",
       "      <td>0</td>\n",
       "      <td>3</td>\n",
       "      <td>7</td>\n",
       "      <td>730</td>\n",
       "      <td>...</td>\n",
       "      <td>1780</td>\n",
       "      <td>8113</td>\n",
       "      <td>229500</td>\n",
       "      <td>False</td>\n",
       "      <td>True</td>\n",
       "      <td>3</td>\n",
       "      <td>centre</td>\n",
       "      <td>west</td>\n",
       "      <td>359496.26</td>\n",
       "      <td>2</td>\n",
       "    </tr>\n",
       "    <tr>\n",
       "      <th>9</th>\n",
       "      <td>3</td>\n",
       "      <td>2.50</td>\n",
       "      <td>1890</td>\n",
       "      <td>6560</td>\n",
       "      <td>2.0</td>\n",
       "      <td>0</td>\n",
       "      <td>0</td>\n",
       "      <td>3</td>\n",
       "      <td>7</td>\n",
       "      <td>0</td>\n",
       "      <td>...</td>\n",
       "      <td>2390</td>\n",
       "      <td>7570</td>\n",
       "      <td>323000</td>\n",
       "      <td>False</td>\n",
       "      <td>False</td>\n",
       "      <td>4</td>\n",
       "      <td>centre</td>\n",
       "      <td>centre</td>\n",
       "      <td>367091.48</td>\n",
       "      <td>2</td>\n",
       "    </tr>\n",
       "    <tr>\n",
       "      <th>10</th>\n",
       "      <td>3</td>\n",
       "      <td>2.50</td>\n",
       "      <td>3560</td>\n",
       "      <td>9796</td>\n",
       "      <td>1.0</td>\n",
       "      <td>0</td>\n",
       "      <td>0</td>\n",
       "      <td>3</td>\n",
       "      <td>8</td>\n",
       "      <td>1700</td>\n",
       "      <td>...</td>\n",
       "      <td>2210</td>\n",
       "      <td>8925</td>\n",
       "      <td>662500</td>\n",
       "      <td>False</td>\n",
       "      <td>True</td>\n",
       "      <td>3</td>\n",
       "      <td>north</td>\n",
       "      <td>centre</td>\n",
       "      <td>617254.02</td>\n",
       "      <td>4</td>\n",
       "    </tr>\n",
       "    <tr>\n",
       "      <th>11</th>\n",
       "      <td>2</td>\n",
       "      <td>1.00</td>\n",
       "      <td>1160</td>\n",
       "      <td>6000</td>\n",
       "      <td>1.0</td>\n",
       "      <td>0</td>\n",
       "      <td>0</td>\n",
       "      <td>4</td>\n",
       "      <td>7</td>\n",
       "      <td>300</td>\n",
       "      <td>...</td>\n",
       "      <td>1330</td>\n",
       "      <td>6000</td>\n",
       "      <td>468000</td>\n",
       "      <td>False</td>\n",
       "      <td>True</td>\n",
       "      <td>2</td>\n",
       "      <td>north</td>\n",
       "      <td>west</td>\n",
       "      <td>619944.15</td>\n",
       "      <td>4</td>\n",
       "    </tr>\n",
       "    <tr>\n",
       "      <th>12</th>\n",
       "      <td>3</td>\n",
       "      <td>1.00</td>\n",
       "      <td>1430</td>\n",
       "      <td>19901</td>\n",
       "      <td>1.5</td>\n",
       "      <td>0</td>\n",
       "      <td>0</td>\n",
       "      <td>4</td>\n",
       "      <td>7</td>\n",
       "      <td>0</td>\n",
       "      <td>...</td>\n",
       "      <td>1780</td>\n",
       "      <td>12697</td>\n",
       "      <td>310000</td>\n",
       "      <td>False</td>\n",
       "      <td>False</td>\n",
       "      <td>1</td>\n",
       "      <td>north</td>\n",
       "      <td>centre</td>\n",
       "      <td>462488.87</td>\n",
       "      <td>3</td>\n",
       "    </tr>\n",
       "    <tr>\n",
       "      <th>13</th>\n",
       "      <td>3</td>\n",
       "      <td>1.75</td>\n",
       "      <td>1370</td>\n",
       "      <td>9680</td>\n",
       "      <td>1.0</td>\n",
       "      <td>0</td>\n",
       "      <td>0</td>\n",
       "      <td>4</td>\n",
       "      <td>7</td>\n",
       "      <td>0</td>\n",
       "      <td>...</td>\n",
       "      <td>1370</td>\n",
       "      <td>10208</td>\n",
       "      <td>400000</td>\n",
       "      <td>False</td>\n",
       "      <td>False</td>\n",
       "      <td>3</td>\n",
       "      <td>north</td>\n",
       "      <td>centre</td>\n",
       "      <td>685675.84</td>\n",
       "      <td>5</td>\n",
       "    </tr>\n",
       "    <tr>\n",
       "      <th>14</th>\n",
       "      <td>5</td>\n",
       "      <td>2.00</td>\n",
       "      <td>1810</td>\n",
       "      <td>4850</td>\n",
       "      <td>1.5</td>\n",
       "      <td>0</td>\n",
       "      <td>0</td>\n",
       "      <td>3</td>\n",
       "      <td>7</td>\n",
       "      <td>0</td>\n",
       "      <td>...</td>\n",
       "      <td>1360</td>\n",
       "      <td>4850</td>\n",
       "      <td>530000</td>\n",
       "      <td>False</td>\n",
       "      <td>False</td>\n",
       "      <td>1</td>\n",
       "      <td>north</td>\n",
       "      <td>west</td>\n",
       "      <td>579109.81</td>\n",
       "      <td>3</td>\n",
       "    </tr>\n",
       "    <tr>\n",
       "      <th>15</th>\n",
       "      <td>4</td>\n",
       "      <td>3.00</td>\n",
       "      <td>2950</td>\n",
       "      <td>5000</td>\n",
       "      <td>2.0</td>\n",
       "      <td>0</td>\n",
       "      <td>3</td>\n",
       "      <td>3</td>\n",
       "      <td>9</td>\n",
       "      <td>970</td>\n",
       "      <td>...</td>\n",
       "      <td>2140</td>\n",
       "      <td>4000</td>\n",
       "      <td>650000</td>\n",
       "      <td>False</td>\n",
       "      <td>True</td>\n",
       "      <td>3</td>\n",
       "      <td>north</td>\n",
       "      <td>west</td>\n",
       "      <td>424734.60</td>\n",
       "      <td>2</td>\n",
       "    </tr>\n",
       "    <tr>\n",
       "      <th>16</th>\n",
       "      <td>3</td>\n",
       "      <td>2.00</td>\n",
       "      <td>1890</td>\n",
       "      <td>14040</td>\n",
       "      <td>2.0</td>\n",
       "      <td>0</td>\n",
       "      <td>0</td>\n",
       "      <td>3</td>\n",
       "      <td>7</td>\n",
       "      <td>0</td>\n",
       "      <td>...</td>\n",
       "      <td>1890</td>\n",
       "      <td>14018</td>\n",
       "      <td>395000</td>\n",
       "      <td>False</td>\n",
       "      <td>False</td>\n",
       "      <td>4</td>\n",
       "      <td>north</td>\n",
       "      <td>east</td>\n",
       "      <td>424815.06</td>\n",
       "      <td>2</td>\n",
       "    </tr>\n",
       "    <tr>\n",
       "      <th>17</th>\n",
       "      <td>4</td>\n",
       "      <td>1.00</td>\n",
       "      <td>1600</td>\n",
       "      <td>4300</td>\n",
       "      <td>1.5</td>\n",
       "      <td>0</td>\n",
       "      <td>0</td>\n",
       "      <td>4</td>\n",
       "      <td>7</td>\n",
       "      <td>0</td>\n",
       "      <td>...</td>\n",
       "      <td>1610</td>\n",
       "      <td>4300</td>\n",
       "      <td>485000</td>\n",
       "      <td>False</td>\n",
       "      <td>False</td>\n",
       "      <td>1</td>\n",
       "      <td>north</td>\n",
       "      <td>west</td>\n",
       "      <td>584957.35</td>\n",
       "      <td>4</td>\n",
       "    </tr>\n",
       "    <tr>\n",
       "      <th>18</th>\n",
       "      <td>2</td>\n",
       "      <td>1.00</td>\n",
       "      <td>1200</td>\n",
       "      <td>9850</td>\n",
       "      <td>1.0</td>\n",
       "      <td>0</td>\n",
       "      <td>0</td>\n",
       "      <td>4</td>\n",
       "      <td>7</td>\n",
       "      <td>0</td>\n",
       "      <td>...</td>\n",
       "      <td>1060</td>\n",
       "      <td>5095</td>\n",
       "      <td>189000</td>\n",
       "      <td>False</td>\n",
       "      <td>False</td>\n",
       "      <td>1</td>\n",
       "      <td>south</td>\n",
       "      <td>centre</td>\n",
       "      <td>234284.04</td>\n",
       "      <td>1</td>\n",
       "    </tr>\n",
       "    <tr>\n",
       "      <th>19</th>\n",
       "      <td>3</td>\n",
       "      <td>1.00</td>\n",
       "      <td>1250</td>\n",
       "      <td>9774</td>\n",
       "      <td>1.0</td>\n",
       "      <td>0</td>\n",
       "      <td>0</td>\n",
       "      <td>4</td>\n",
       "      <td>7</td>\n",
       "      <td>0</td>\n",
       "      <td>...</td>\n",
       "      <td>1280</td>\n",
       "      <td>8850</td>\n",
       "      <td>230000</td>\n",
       "      <td>False</td>\n",
       "      <td>False</td>\n",
       "      <td>3</td>\n",
       "      <td>south</td>\n",
       "      <td>west</td>\n",
       "      <td>294111.28</td>\n",
       "      <td>1</td>\n",
       "    </tr>\n",
       "    <tr>\n",
       "      <th>20</th>\n",
       "      <td>4</td>\n",
       "      <td>1.75</td>\n",
       "      <td>1620</td>\n",
       "      <td>4980</td>\n",
       "      <td>1.0</td>\n",
       "      <td>0</td>\n",
       "      <td>0</td>\n",
       "      <td>4</td>\n",
       "      <td>7</td>\n",
       "      <td>760</td>\n",
       "      <td>...</td>\n",
       "      <td>1400</td>\n",
       "      <td>4980</td>\n",
       "      <td>385000</td>\n",
       "      <td>False</td>\n",
       "      <td>True</td>\n",
       "      <td>2</td>\n",
       "      <td>north</td>\n",
       "      <td>west</td>\n",
       "      <td>387011.59</td>\n",
       "      <td>2</td>\n",
       "    </tr>\n",
       "    <tr>\n",
       "      <th>21</th>\n",
       "      <td>3</td>\n",
       "      <td>2.75</td>\n",
       "      <td>3050</td>\n",
       "      <td>44867</td>\n",
       "      <td>1.0</td>\n",
       "      <td>0</td>\n",
       "      <td>4</td>\n",
       "      <td>3</td>\n",
       "      <td>9</td>\n",
       "      <td>720</td>\n",
       "      <td>...</td>\n",
       "      <td>4110</td>\n",
       "      <td>20336</td>\n",
       "      <td>2000000</td>\n",
       "      <td>False</td>\n",
       "      <td>True</td>\n",
       "      <td>3</td>\n",
       "      <td>centre</td>\n",
       "      <td>west</td>\n",
       "      <td>1194873.64</td>\n",
       "      <td>5</td>\n",
       "    </tr>\n",
       "    <tr>\n",
       "      <th>22</th>\n",
       "      <td>5</td>\n",
       "      <td>2.50</td>\n",
       "      <td>2270</td>\n",
       "      <td>6300</td>\n",
       "      <td>2.0</td>\n",
       "      <td>0</td>\n",
       "      <td>0</td>\n",
       "      <td>3</td>\n",
       "      <td>8</td>\n",
       "      <td>0</td>\n",
       "      <td>...</td>\n",
       "      <td>2240</td>\n",
       "      <td>7005</td>\n",
       "      <td>285000</td>\n",
       "      <td>False</td>\n",
       "      <td>False</td>\n",
       "      <td>4</td>\n",
       "      <td>south</td>\n",
       "      <td>centre</td>\n",
       "      <td>334921.06</td>\n",
       "      <td>2</td>\n",
       "    </tr>\n",
       "    <tr>\n",
       "      <th>23</th>\n",
       "      <td>2</td>\n",
       "      <td>1.50</td>\n",
       "      <td>1070</td>\n",
       "      <td>9643</td>\n",
       "      <td>1.0</td>\n",
       "      <td>0</td>\n",
       "      <td>0</td>\n",
       "      <td>3</td>\n",
       "      <td>7</td>\n",
       "      <td>0</td>\n",
       "      <td>...</td>\n",
       "      <td>1220</td>\n",
       "      <td>8386</td>\n",
       "      <td>252700</td>\n",
       "      <td>False</td>\n",
       "      <td>False</td>\n",
       "      <td>3</td>\n",
       "      <td>south</td>\n",
       "      <td>centre</td>\n",
       "      <td>296187.98</td>\n",
       "      <td>1</td>\n",
       "    </tr>\n",
       "    <tr>\n",
       "      <th>24</th>\n",
       "      <td>3</td>\n",
       "      <td>2.25</td>\n",
       "      <td>2450</td>\n",
       "      <td>6500</td>\n",
       "      <td>2.0</td>\n",
       "      <td>0</td>\n",
       "      <td>0</td>\n",
       "      <td>4</td>\n",
       "      <td>8</td>\n",
       "      <td>0</td>\n",
       "      <td>...</td>\n",
       "      <td>2200</td>\n",
       "      <td>6865</td>\n",
       "      <td>329000</td>\n",
       "      <td>False</td>\n",
       "      <td>False</td>\n",
       "      <td>3</td>\n",
       "      <td>centre</td>\n",
       "      <td>centre</td>\n",
       "      <td>296187.98</td>\n",
       "      <td>1</td>\n",
       "    </tr>\n",
       "  </tbody>\n",
       "</table>\n",
       "<p>25 rows × 25 columns</p>\n",
       "</div>"
      ],
      "text/plain": [
       "    bedrooms  bathrooms  sqft_living  sqft_lot  floors  waterfront  view  \\\n",
       "0          3       1.00         1180      5650     1.0           0     0   \n",
       "1          3       2.25         2570      7242     2.0           0     0   \n",
       "2          2       1.00          770     10000     1.0           0     0   \n",
       "3          4       3.00         1960      5000     1.0           0     0   \n",
       "4          3       2.00         1680      8080     1.0           0     0   \n",
       "5          4       4.50         5420    101930     1.0           0     0   \n",
       "6          3       2.25         1715      6819     2.0           0     0   \n",
       "7          3       1.50         1060      9711     1.0           0     0   \n",
       "8          3       1.00         1780      7470     1.0           0     0   \n",
       "9          3       2.50         1890      6560     2.0           0     0   \n",
       "10         3       2.50         3560      9796     1.0           0     0   \n",
       "11         2       1.00         1160      6000     1.0           0     0   \n",
       "12         3       1.00         1430     19901     1.5           0     0   \n",
       "13         3       1.75         1370      9680     1.0           0     0   \n",
       "14         5       2.00         1810      4850     1.5           0     0   \n",
       "15         4       3.00         2950      5000     2.0           0     3   \n",
       "16         3       2.00         1890     14040     2.0           0     0   \n",
       "17         4       1.00         1600      4300     1.5           0     0   \n",
       "18         2       1.00         1200      9850     1.0           0     0   \n",
       "19         3       1.00         1250      9774     1.0           0     0   \n",
       "20         4       1.75         1620      4980     1.0           0     0   \n",
       "21         3       2.75         3050     44867     1.0           0     4   \n",
       "22         5       2.50         2270      6300     2.0           0     0   \n",
       "23         2       1.50         1070      9643     1.0           0     0   \n",
       "24         3       2.25         2450      6500     2.0           0     0   \n",
       "\n",
       "    condition  grade  sqft_basement  ...  sqft_living15  sqft_lot15    price  \\\n",
       "0           3      7              0  ...           1340        5650   221900   \n",
       "1           3      7            400  ...           1690        7639   538000   \n",
       "2           3      6              0  ...           2720        8062   180000   \n",
       "3           5      7            910  ...           1360        5000   604000   \n",
       "4           3      8              0  ...           1800        7503   510000   \n",
       "5           3     11           1530  ...           4760      101930  1230000   \n",
       "6           3      7              0  ...           2238        6819   257500   \n",
       "7           3      7              0  ...           1650        9711   291850   \n",
       "8           3      7            730  ...           1780        8113   229500   \n",
       "9           3      7              0  ...           2390        7570   323000   \n",
       "10          3      8           1700  ...           2210        8925   662500   \n",
       "11          4      7            300  ...           1330        6000   468000   \n",
       "12          4      7              0  ...           1780       12697   310000   \n",
       "13          4      7              0  ...           1370       10208   400000   \n",
       "14          3      7              0  ...           1360        4850   530000   \n",
       "15          3      9            970  ...           2140        4000   650000   \n",
       "16          3      7              0  ...           1890       14018   395000   \n",
       "17          4      7              0  ...           1610        4300   485000   \n",
       "18          4      7              0  ...           1060        5095   189000   \n",
       "19          4      7              0  ...           1280        8850   230000   \n",
       "20          4      7            760  ...           1400        4980   385000   \n",
       "21          3      9            720  ...           4110       20336  2000000   \n",
       "22          3      8              0  ...           2240        7005   285000   \n",
       "23          3      7              0  ...           1220        8386   252700   \n",
       "24          4      8              0  ...           2200        6865   329000   \n",
       "\n",
       "    renovated  basement  decade    geo1    geo2  avg_price_by_zipcode  \\\n",
       "0       False     False       2  centre    west             310612.76   \n",
       "1        True      True       2   north    west             469928.77   \n",
       "2       False     False       2   north    west             462488.87   \n",
       "3       False      True       3  centre    west             551768.52   \n",
       "4       False     False       3   north  centre             685675.84   \n",
       "5       False      True       4   north  centre             677215.03   \n",
       "6       False     False       4   south    west             294111.28   \n",
       "7       False     False       3  centre    west             302896.74   \n",
       "8       False      True       3  centre    west             359496.26   \n",
       "9       False     False       4  centre  centre             367091.48   \n",
       "10      False      True       3   north  centre             617254.02   \n",
       "11      False      True       2   north    west             619944.15   \n",
       "12      False     False       1   north  centre             462488.87   \n",
       "13      False     False       3   north  centre             685675.84   \n",
       "14      False     False       1   north    west             579109.81   \n",
       "15      False      True       3   north    west             424734.60   \n",
       "16      False     False       4   north    east             424815.06   \n",
       "17      False     False       1   north    west             584957.35   \n",
       "18      False     False       1   south  centre             234284.04   \n",
       "19      False     False       3   south    west             294111.28   \n",
       "20      False      True       2   north    west             387011.59   \n",
       "21      False      True       3  centre    west            1194873.64   \n",
       "22      False     False       4   south  centre             334921.06   \n",
       "23      False     False       3   south  centre             296187.98   \n",
       "24      False     False       3  centre  centre             296187.98   \n",
       "\n",
       "    avg_price_by_zipcode_binned  \n",
       "0                             1  \n",
       "1                             3  \n",
       "2                             3  \n",
       "3                             3  \n",
       "4                             5  \n",
       "5                             4  \n",
       "6                             1  \n",
       "7                             1  \n",
       "8                             2  \n",
       "9                             2  \n",
       "10                            4  \n",
       "11                            4  \n",
       "12                            3  \n",
       "13                            5  \n",
       "14                            3  \n",
       "15                            2  \n",
       "16                            2  \n",
       "17                            4  \n",
       "18                            1  \n",
       "19                            1  \n",
       "20                            2  \n",
       "21                            5  \n",
       "22                            2  \n",
       "23                            1  \n",
       "24                            1  \n",
       "\n",
       "[25 rows x 25 columns]"
      ]
     },
     "execution_count": 171,
     "metadata": {},
     "output_type": "execute_result"
    }
   ],
   "source": [
    "df.head(25)"
   ]
  },
  {
   "cell_type": "code",
   "execution_count": 7,
   "id": "45b20a83",
   "metadata": {},
   "outputs": [],
   "source": [
    "avg_price_by_zipcode_labels = [\"1\", \"2\", \"3\", \"4\", \"5\"]\n",
    "df['avg_price_by_zipcode_binned'] = pd.qcut(df['avg_price_by_zipcode'],5, labels=avg_price_by_zipcode_labels)"
   ]
  },
  {
   "cell_type": "code",
   "execution_count": 8,
   "id": "5cfc30f0",
   "metadata": {},
   "outputs": [
    {
     "data": {
      "text/plain": [
       "count    2.159600e+04\n",
       "mean     5.402920e+05\n",
       "std      2.344473e+05\n",
       "min      2.342840e+05\n",
       "25%      3.594963e+05\n",
       "50%      4.936253e+05\n",
       "75%      6.452442e+05\n",
       "max      2.161300e+06\n",
       "Name: avg_price_by_zipcode, dtype: float64"
      ]
     },
     "execution_count": 8,
     "metadata": {},
     "output_type": "execute_result"
    }
   ],
   "source": [
    "df['avg_price_by_zipcode'].describe()"
   ]
  },
  {
   "cell_type": "code",
   "execution_count": 9,
   "id": "719aa186",
   "metadata": {
    "scrolled": false
   },
   "outputs": [
    {
     "data": {
      "text/plain": [
       "4    4616\n",
       "1    4380\n",
       "2    4365\n",
       "3    4278\n",
       "5    3957\n",
       "Name: avg_price_by_zipcode_binned, dtype: int64"
      ]
     },
     "execution_count": 9,
     "metadata": {},
     "output_type": "execute_result"
    }
   ],
   "source": [
    "df.avg_price_by_zipcode_binned.value_counts()"
   ]
  },
  {
   "cell_type": "code",
   "execution_count": 10,
   "id": "262e37c9",
   "metadata": {},
   "outputs": [],
   "source": [
    "# Dropping highly correlated columns sqft_living and sqft_above\n",
    "## sqft_living: living area of the home; area that can be heated or cooled \n",
    "## sqft_above: area above the basement; living area minus attic\n",
    "df.drop([\"sqft_above\"], axis = 1, inplace = True)"
   ]
  },
  {
   "cell_type": "code",
   "execution_count": 11,
   "id": "13d67dd7",
   "metadata": {},
   "outputs": [],
   "source": [
    "decade_dict = {\"Category A\": 1, \"Category B\": 2, \"Category C\": 3, \"Category D\": 4}\n",
    "df = df.replace({\"decade\": decade_dict})"
   ]
  },
  {
   "cell_type": "code",
   "execution_count": 12,
   "id": "19a375fa",
   "metadata": {
    "scrolled": true
   },
   "outputs": [
    {
     "name": "stdout",
     "output_type": "stream",
     "text": [
      "<class 'pandas.core.frame.DataFrame'>\n",
      "RangeIndex: 21596 entries, 0 to 21595\n",
      "Data columns (total 25 columns):\n",
      " #   Column                       Non-Null Count  Dtype   \n",
      "---  ------                       --------------  -----   \n",
      " 0   bedrooms                     21596 non-null  int64   \n",
      " 1   bathrooms                    21596 non-null  float64 \n",
      " 2   sqft_living                  21596 non-null  int64   \n",
      " 3   sqft_lot                     21596 non-null  int64   \n",
      " 4   floors                       21596 non-null  float64 \n",
      " 5   waterfront                   21596 non-null  int64   \n",
      " 6   view                         21596 non-null  int64   \n",
      " 7   condition                    21596 non-null  int64   \n",
      " 8   grade                        21596 non-null  int64   \n",
      " 9   sqft_basement                21596 non-null  int64   \n",
      " 10  yr_built                     21596 non-null  int64   \n",
      " 11  yr_renovated                 21596 non-null  int64   \n",
      " 12  zipcode                      21596 non-null  int64   \n",
      " 13  lat                          21596 non-null  float64 \n",
      " 14  long                         21596 non-null  float64 \n",
      " 15  sqft_living15                21596 non-null  int64   \n",
      " 16  sqft_lot15                   21596 non-null  int64   \n",
      " 17  price                        21596 non-null  int64   \n",
      " 18  renovated                    21596 non-null  bool    \n",
      " 19  basement                     21596 non-null  bool    \n",
      " 20  decade                       21596 non-null  int64   \n",
      " 21  geo1                         21596 non-null  object  \n",
      " 22  geo2                         21596 non-null  object  \n",
      " 23  avg_price_by_zipcode         21596 non-null  float64 \n",
      " 24  avg_price_by_zipcode_binned  21596 non-null  category\n",
      "dtypes: bool(2), category(1), float64(5), int64(15), object(2)\n",
      "memory usage: 3.7+ MB\n"
     ]
    }
   ],
   "source": [
    "df.info()"
   ]
  },
  {
   "cell_type": "code",
   "execution_count": 146,
   "id": "68f4951e",
   "metadata": {},
   "outputs": [],
   "source": [
    "# Looking for highly correlated columns\n",
    "\n",
    "correlation_matrix = df.corr()"
   ]
  },
  {
   "cell_type": "code",
   "execution_count": 152,
   "id": "362f5b90",
   "metadata": {},
   "outputs": [
    {
     "data": {
      "image/png": "[encoded data removed]",
      "text/plain": [
       "<Figure size 1152x864 with 2 Axes>"
      ]
     },
     "metadata": {
      "needs_background": "light"
     },
     "output_type": "display_data"
    }
   ],
   "source": [
    "fig5, ax = plt.subplots(figsize = (16,12))\n",
    "\n",
    "ax.set_title(\"Heatmap\")\n",
    "\n",
    "corr = df.corr()\n",
    "\n",
    "# Getting the Upper Triangle of the co-relation matrix\n",
    "matrix = np.triu(corr)\n",
    "\n",
    "# using the upper triangle matrix as mask \n",
    "sns.heatmap(corr, cmap = \"coolwarm\", linewidth = 1, annot=True,  fmt = \".2f\", mask=matrix)\n",
    "\n",
    "plt.show()"
   ]
  },
  {
   "cell_type": "code",
   "execution_count": 170,
   "id": "49d58898",
   "metadata": {},
   "outputs": [
    {
     "data": {
      "text/plain": [
       "520"
      ]
     },
     "execution_count": 170,
     "metadata": {},
     "output_type": "execute_result"
    }
   ],
   "source": [
    "df[\"sqft_lot\"].min()"
   ]
  },
  {
   "cell_type": "code",
   "execution_count": 143,
   "id": "ef69c089",
   "metadata": {},
   "outputs": [
    {
     "data": {
      "text/plain": [
       "<AxesSubplot:xlabel='sqft_lot15', ylabel='Count'>"
      ]
     },
     "execution_count": 143,
     "metadata": {},
     "output_type": "execute_result"
    },
    {
     "data": {
      "image/png": "[encoded data removed]",
      "text/plain": [
       "<Figure size 1008x864 with 6 Axes>"
      ]
     },
     "metadata": {
      "needs_background": "light"
     },
     "output_type": "display_data"
    }
   ],
   "source": [
    "fig, axe = plt.subplots(2,3,figsize = (14,12))\n",
    "\n",
    "sns.histplot(df, x=df.loc[:, \"sqft_living\"], ax = axe[0,0]) \n",
    "sns.histplot(df, x=df.loc[:, \"sqft_lot\"], ax = axe [0,1])\n",
    "sns.histplot(df, x=df.loc[:, \"sqft_basement\"], ax = axe [0,2])\n",
    "sns.histplot(df, x=df.loc[:, \"sqft_living15\"], ax = axe [1,0])\n",
    "sns.histplot(df, x=df.loc[:, \"sqft_lot15\"], ax = axe [1,1])"
   ]
  },
  {
   "cell_type": "code",
   "execution_count": 15,
   "id": "c64edcea",
   "metadata": {},
   "outputs": [],
   "source": [
    "# X/y split\n",
    "X = df.drop(\"price\", axis=1)\n",
    "y = df[\"price\"]"
   ]
  },
  {
   "cell_type": "code",
   "execution_count": 16,
   "id": "78ee2b2d",
   "metadata": {
    "scrolled": false
   },
   "outputs": [],
   "source": [
    "# Train/test split\n",
    "X_train, X_test, y_train, y_test=train_test_split(X, y, test_size=.30,random_state=123)"
   ]
  },
  {
   "cell_type": "code",
   "execution_count": 17,
   "id": "3af4ba2a",
   "metadata": {},
   "outputs": [
    {
     "data": {
      "text/plain": [
       "<bound method Series.reset_index of 11950    325000\n",
       "17781    389000\n",
       "3405     442000\n",
       "740      360000\n",
       "848      512000\n",
       "          ...  \n",
       "7763     620000\n",
       "15377    424900\n",
       "17730    272450\n",
       "15725    260000\n",
       "19966    479000\n",
       "Name: price, Length: 15117, dtype: int64>"
      ]
     },
     "execution_count": 17,
     "metadata": {},
     "output_type": "execute_result"
    }
   ],
   "source": [
    "X_train.reset_index\n",
    "y_train.reset_index"
   ]
  },
  {
   "cell_type": "code",
   "execution_count": 18,
   "id": "bcb6dec0",
   "metadata": {
    "scrolled": true
   },
   "outputs": [
    {
     "data": {
      "text/plain": [
       "Index(['bedrooms', 'bathrooms', 'sqft_living', 'sqft_lot', 'floors',\n",
       "       'waterfront', 'view', 'condition', 'grade', 'sqft_basement', 'yr_built',\n",
       "       'yr_renovated', 'zipcode', 'lat', 'long', 'sqft_living15', 'sqft_lot15',\n",
       "       'renovated', 'basement', 'decade', 'geo1', 'geo2',\n",
       "       'avg_price_by_zipcode', 'avg_price_by_zipcode_binned'],\n",
       "      dtype='object')"
      ]
     },
     "execution_count": 18,
     "metadata": {},
     "output_type": "execute_result"
    }
   ],
   "source": [
    "X_train.columns"
   ]
  },
  {
   "cell_type": "code",
   "execution_count": 107,
   "id": "28b9e0b0",
   "metadata": {},
   "outputs": [],
   "source": [
    "# 3.Splitting into X_train_num, X_train_cat, X_test_num, X_test_cat\n",
    "\n",
    "X_train_num = X_train[[\"sqft_living\", \"sqft_basement\", \"sqft_lot\", \"sqft_living15\"]]\n",
    "X_train_cat = X_train[[\"bedrooms\", \"bathrooms\", \"avg_price_by_zipcode\", \"lat\", \"long\", \"yr_renovated\", \"waterfront\", \"view\", \"grade\", \"decade\", \"geo1\", \"geo2\"]]\n",
    "X_test_num = X_test[[\"sqft_living\", \"sqft_basement\", \"sqft_lot\", \"sqft_living15\"]]\n",
    "X_test_cat = X_test[[\"bedrooms\", \"bathrooms\", \"avg_price_by_zipcode\", \"lat\", \"long\", \"yr_renovated\", \"waterfront\", \"view\", \"grade\", \"decade\", \"geo1\", \"geo2\"]]"
   ]
  },
  {
   "cell_type": "code",
   "execution_count": 108,
   "id": "25f1cb8e",
   "metadata": {},
   "outputs": [],
   "source": [
    "# 4.Applying minmax scaler to X_train_num, X_test_num (scaling)\n",
    "\n",
    "# Fitting on X_train_num\n",
    "scaler = MinMaxScaler() \n",
    "scaler.fit(X_train_num)\n",
    "\n",
    "# Transforming X_train num and X_test_num\n",
    "X_train_num_scaled = pd.DataFrame(scaler.transform(X_train_num), columns=X_train_num.columns).reset_index(drop=True)\n",
    "X_test_num_scaled = pd.DataFrame(scaler.transform(X_test_num), columns=X_test_num.columns).reset_index(drop=True)"
   ]
  },
  {
   "cell_type": "markdown",
   "id": "7dd32835",
   "metadata": {},
   "source": [
    "# 5.a: Applying power transformer (normalizing) to sqft_living\n",
    "\n",
    "# Fitting on X_train_num\n",
    "\n",
    "transformer = PowerTransformer()\n",
    "sqft_living_transformer = transformer.fit(X_train_num_scaled['sqft_living'].to_numpy().reshape(-1,1))\n",
    "\n",
    "# Normalizing X_train_num and X_test_num\n",
    "\n",
    "X_train_num_scaled[\"sqft_living\"] = sqft_living_transformer.transform(X_train_num_scaled[\"sqft_living\"].to_numpy().reshape(-1,1))\n",
    "X_test_num_scaled[\"sqft_living\"] = sqft_living_transformer.transform(X_test_num_scaled[\"sqft_living\"].to_numpy().reshape(-1,1))"
   ]
  },
  {
   "cell_type": "markdown",
   "id": "122220a7",
   "metadata": {},
   "source": [
    "# Plotting sqft_living distribution after normalization\n",
    "fig = plt.subplots()\n",
    "\n",
    "sns.histplot(X_train_num_scaled, x=X_train_num_scaled.loc[:, \"sqft_living\"])"
   ]
  },
  {
   "cell_type": "markdown",
   "id": "210aed54",
   "metadata": {},
   "source": [
    "# 5.b: Applying quantile transformer (normalizing) to sqft_lot\n",
    "\n",
    "# Fitting on X_train_num\n",
    "\n",
    "transformer = PowerTransformer()\n",
    "sqft_living_transformer = transformer.fit(X_train_num_scaled['sqft_lot'].to_numpy().reshape(-1,1))\n",
    "\n",
    "# Normalizing X_train_num and X_test_num\n",
    "\n",
    "X_train_num_scaled[\"sqft_lot\"] = sqft_living_transformer.transform(X_train_num_scaled[\"sqft_lot\"].to_numpy().reshape(-1,1))\n",
    "X_test_num_scaled[\"sqft_lot\"] = sqft_living_transformer.transform(X_test_num_scaled[\"sqft_lot\"].to_numpy().reshape(-1,1))"
   ]
  },
  {
   "cell_type": "markdown",
   "id": "a587bebc",
   "metadata": {},
   "source": [
    "fig = plt.subplots()\n",
    "\n",
    "sns.histplot(X_train_num_scaled, x=X_train_num_scaled.loc[:, \"sqft_lot\"])"
   ]
  },
  {
   "cell_type": "markdown",
   "id": "7b2060c2",
   "metadata": {},
   "source": [
    "# 5.c: Applying quantile transformer (normalizing) to sqft_living15\n",
    "\n",
    "# Fitting on X_train_num\n",
    "\n",
    "transformer = QuantileTransformer(output_distribution='normal')\n",
    "sqft_living_transformer = transformer.fit(X_train_num_scaled['sqft_living15'].to_numpy().reshape(-1,1))\n",
    "\n",
    "# Normalizing X_train_num and X_test_num\n",
    "\n",
    "X_train_num_scaled[\"sqft_living15\"] = sqft_living_transformer.transform(X_train_num_scaled[\"sqft_living15\"].to_numpy().reshape(-1,1))\n",
    "X_test_num_scaled[\"sqft_living15\"] = sqft_living_transformer.transform(X_test_num_scaled[\"sqft_living15\"].to_numpy().reshape(-1,1))"
   ]
  },
  {
   "cell_type": "markdown",
   "id": "bae0151d",
   "metadata": {},
   "source": [
    "fig = plt.subplots()\n",
    "\n",
    "sns.histplot(X_train_num_scaled, x=X_train_num_scaled.loc[:, \"sqft_living15\"])"
   ]
  },
  {
   "cell_type": "markdown",
   "id": "ad80cd43",
   "metadata": {},
   "source": [
    "# 5.d: Applying quantile transformer (normalizing) to sqft_lot15\n",
    "\n",
    "# Fitting on X_train_num\n",
    "\n",
    "transformer = QuantileTransformer(output_distribution='normal')\n",
    "sqft_living_transformer = transformer.fit(X_train_num_scaled['sqft_lot15'].to_numpy().reshape(-1,1))\n",
    "\n",
    "# Normalizing X_train_num and X_test_num\n",
    "\n",
    "X_train_num_scaled[\"sqft_lot15\"] = sqft_living_transformer.transform(X_train_num_scaled[\"sqft_lot15\"].to_numpy().reshape(-1,1))\n",
    "X_test_num_scaled[\"sqft_lot15\"] = sqft_living_transformer.transform(X_test_num_scaled[\"sqft_lot15\"].to_numpy().reshape(-1,1))"
   ]
  },
  {
   "cell_type": "markdown",
   "id": "b582bec0",
   "metadata": {},
   "source": [
    "fig = plt.subplots()\n",
    "\n",
    "sns.histplot(X_train_num_scaled, x=X_train_num_scaled.loc[:, \"sqft_lot15\"])"
   ]
  },
  {
   "cell_type": "code",
   "execution_count": 195,
   "id": "87d1447e",
   "metadata": {},
   "outputs": [],
   "source": [
    "# 6. Splitting categorical columns into nominal and categorical ones\n",
    "\n",
    "X_train_cat_nom = X_train_cat[[\"geo1\", \"geo2\"]]\n",
    "X_test_cat_nom = X_test_cat[[\"geo1\", \"geo2\"]]\n",
    "\n",
    "# Leaving only ordinal \n",
    "\n",
    "X_train_cat_ord = X_train_cat[[\"bedrooms\", \"bathrooms\", \"avg_price_by_zipcode\", \"waterfront\", \"yr_renovated\", \"view\", \"grade\", \"decade\"]]\n",
    "X_test_cat_ord = X_test_cat[[\"bedrooms\", \"bathrooms\", \"avg_price_by_zipcode\", \"waterfront\", \"yr_renovated\", \"view\", \"grade\", \"decade\"]]\n"
   ]
  },
  {
   "cell_type": "code",
   "execution_count": 196,
   "id": "395c8585",
   "metadata": {},
   "outputs": [],
   "source": [
    "# 6.a Hot encoding nominal columns\n",
    "\n",
    "X_train_cat_nom_encoded = pd.get_dummies(X_train_cat_nom, drop_first = True)\n",
    "X_test_cat_nom_encoded = pd.get_dummies(X_test_cat_nom, drop_first = True)"
   ]
  },
  {
   "cell_type": "markdown",
   "id": "309b93d5",
   "metadata": {},
   "source": [
    "X_test_cat_nom_encoded.describe()"
   ]
  },
  {
   "cell_type": "code",
   "execution_count": 197,
   "id": "de58be2a",
   "metadata": {},
   "outputs": [],
   "source": [
    "# 6.b Reseting indexes before concatenating\n",
    "\n",
    "X_train_cat_nom_encoded.reset_index(drop=True, inplace=True)\n",
    "X_test_cat_nom_encoded.reset_index(drop=True, inplace=True)\n",
    "X_train_cat_ord.reset_index(drop=True, inplace=True)\n",
    "X_test_cat_ord.reset_index(drop=True, inplace=True)"
   ]
  },
  {
   "cell_type": "code",
   "execution_count": 198,
   "id": "164333fd",
   "metadata": {
    "scrolled": true
   },
   "outputs": [
    {
     "data": {
      "text/html": [
       "<div>\n",
       "<style scoped>\n",
       "    .dataframe tbody tr th:only-of-type {\n",
       "        vertical-align: middle;\n",
       "    }\n",
       "\n",
       "    .dataframe tbody tr th {\n",
       "        vertical-align: top;\n",
       "    }\n",
       "\n",
       "    .dataframe thead th {\n",
       "        text-align: right;\n",
       "    }\n",
       "</style>\n",
       "<table border=\"1\" class=\"dataframe\">\n",
       "  <thead>\n",
       "    <tr style=\"text-align: right;\">\n",
       "      <th></th>\n",
       "      <th>bedrooms</th>\n",
       "      <th>bathrooms</th>\n",
       "      <th>avg_price_by_zipcode</th>\n",
       "      <th>waterfront</th>\n",
       "      <th>yr_renovated</th>\n",
       "      <th>view</th>\n",
       "      <th>grade</th>\n",
       "      <th>decade</th>\n",
       "    </tr>\n",
       "  </thead>\n",
       "  <tbody>\n",
       "    <tr>\n",
       "      <th>0</th>\n",
       "      <td>4</td>\n",
       "      <td>2.50</td>\n",
       "      <td>353619.07</td>\n",
       "      <td>0</td>\n",
       "      <td>0</td>\n",
       "      <td>0</td>\n",
       "      <td>8</td>\n",
       "      <td>4</td>\n",
       "    </tr>\n",
       "    <tr>\n",
       "      <th>1</th>\n",
       "      <td>2</td>\n",
       "      <td>1.50</td>\n",
       "      <td>551768.52</td>\n",
       "      <td>0</td>\n",
       "      <td>0</td>\n",
       "      <td>0</td>\n",
       "      <td>7</td>\n",
       "      <td>4</td>\n",
       "    </tr>\n",
       "    <tr>\n",
       "      <th>2</th>\n",
       "      <td>2</td>\n",
       "      <td>2.25</td>\n",
       "      <td>584957.35</td>\n",
       "      <td>0</td>\n",
       "      <td>0</td>\n",
       "      <td>0</td>\n",
       "      <td>8</td>\n",
       "      <td>4</td>\n",
       "    </tr>\n",
       "    <tr>\n",
       "      <th>3</th>\n",
       "      <td>3</td>\n",
       "      <td>1.00</td>\n",
       "      <td>685675.84</td>\n",
       "      <td>0</td>\n",
       "      <td>0</td>\n",
       "      <td>0</td>\n",
       "      <td>6</td>\n",
       "      <td>2</td>\n",
       "    </tr>\n",
       "    <tr>\n",
       "      <th>4</th>\n",
       "      <td>3</td>\n",
       "      <td>1.00</td>\n",
       "      <td>286742.81</td>\n",
       "      <td>0</td>\n",
       "      <td>0</td>\n",
       "      <td>2</td>\n",
       "      <td>5</td>\n",
       "      <td>2</td>\n",
       "    </tr>\n",
       "  </tbody>\n",
       "</table>\n",
       "</div>"
      ],
      "text/plain": [
       "   bedrooms  bathrooms  avg_price_by_zipcode  waterfront  yr_renovated  view  \\\n",
       "0         4       2.50             353619.07           0             0     0   \n",
       "1         2       1.50             551768.52           0             0     0   \n",
       "2         2       2.25             584957.35           0             0     0   \n",
       "3         3       1.00             685675.84           0             0     0   \n",
       "4         3       1.00             286742.81           0             0     2   \n",
       "\n",
       "   grade  decade  \n",
       "0      8       4  \n",
       "1      7       4  \n",
       "2      8       4  \n",
       "3      6       2  \n",
       "4      5       2  "
      ]
     },
     "execution_count": 198,
     "metadata": {},
     "output_type": "execute_result"
    }
   ],
   "source": [
    "X_test_cat_ord.head()"
   ]
  },
  {
   "cell_type": "code",
   "execution_count": 199,
   "id": "73623c70",
   "metadata": {},
   "outputs": [],
   "source": [
    "# 6.c Concatenating nominal and ordinal\n",
    "\n",
    "X_train_cat_ready = pd.concat([X_train_cat_nom_encoded, X_train_cat_ord], axis = 1)\n",
    "X_test_cat_ready = pd.concat([X_test_cat_nom_encoded, X_test_cat_ord], axis = 1)"
   ]
  },
  {
   "cell_type": "code",
   "execution_count": 200,
   "id": "c36d57b9",
   "metadata": {},
   "outputs": [],
   "source": [
    "# Concatenating X_train and X_test dataframes\n",
    "\n",
    "X_train_num_scaled.reset_index(drop=True, inplace=True)\n",
    "X_train_cat.reset_index(drop=True, inplace = True)\n",
    "X_test_num_scaled.reset_index(drop=True, inplace=True)\n",
    "X_test_cat.reset_index(drop=True, inplace = True)\n",
    "\n",
    "\n",
    "X_train_ready = pd.concat([X_train_num_scaled, X_train_cat_ready], axis = 1)\n",
    "X_test_ready = pd.concat([X_test_num_scaled, X_test_cat_ready], axis = 1)"
   ]
  },
  {
   "cell_type": "code",
   "execution_count": 201,
   "id": "0ec9b39b",
   "metadata": {},
   "outputs": [
    {
     "data": {
      "text/plain": [
       "LinearRegression()"
      ]
     },
     "execution_count": 201,
     "metadata": {},
     "output_type": "execute_result"
    }
   ],
   "source": [
    "model=LinearRegression()    \n",
    "model.fit(X_train_ready, y_train)   "
   ]
  },
  {
   "cell_type": "code",
   "execution_count": 202,
   "id": "fa3d465f",
   "metadata": {},
   "outputs": [
    {
     "data": {
      "text/plain": [
       "0.7720318040343745"
      ]
     },
     "execution_count": 202,
     "metadata": {},
     "output_type": "execute_result"
    }
   ],
   "source": [
    "model.score(X_test_ready, y_test)"
   ]
  },
  {
   "cell_type": "code",
   "execution_count": 203,
   "id": "e7af29a2",
   "metadata": {},
   "outputs": [
    {
     "data": {
      "text/plain": [
       "0.7949943939111016"
      ]
     },
     "execution_count": 203,
     "metadata": {},
     "output_type": "execute_result"
    }
   ],
   "source": [
    "# Running a prediction on X_train_ready to compare the model score with the one from X_test_ready\n",
    "\n",
    "model.score(X_train_ready, y_train)"
   ]
  },
  {
   "cell_type": "code",
   "execution_count": 204,
   "id": "133d6ac4",
   "metadata": {
    "scrolled": true
   },
   "outputs": [
    {
     "data": {
      "image/png": "[encoded data removed]",
      "text/plain": [
       "<Figure size 432x288 with 1 Axes>"
      ]
     },
     "metadata": {
      "needs_background": "light"
     },
     "output_type": "display_data"
    }
   ],
   "source": [
    "features_importances = pd.DataFrame(data={\n",
    "    'Attribute': X_train_ready.columns,\n",
    "    'Importance': abs(model.coef_)\n",
    "})\n",
    "features_importances = features_importances.sort_values(by='Importance', ascending=False)\n",
    "\n",
    "plt.bar(x=features_importances['Attribute'], height=features_importances['Importance'], color='#087E8B')\n",
    "plt.title('Feature importances obtained from coefficients', size=20)\n",
    "plt.xticks(rotation='vertical')\n",
    "plt.show()"
   ]
  },
  {
   "cell_type": "code",
   "execution_count": 205,
   "id": "c72dad43",
   "metadata": {},
   "outputs": [
    {
     "data": {
      "text/plain": [
       "array([ 2.56415361e+06, -1.89848852e+05, -1.94668117e+03, -7.87113052e+04,\n",
       "        2.14725538e+04, -2.47643235e+04, -2.18214417e+04,  4.78407338e+04,\n",
       "       -2.60125905e+04,  2.09170559e+04,  6.26031457e-01,  6.85360313e+05,\n",
       "        2.18430130e+00,  5.28495876e+04,  5.92515472e+04, -4.55766382e+04])"
      ]
     },
     "execution_count": 205,
     "metadata": {},
     "output_type": "execute_result"
    }
   ],
   "source": [
    "model.coef_"
   ]
  },
  {
   "cell_type": "code",
   "execution_count": 206,
   "id": "5e572641",
   "metadata": {},
   "outputs": [],
   "source": [
    "y_pred=model.predict(X_test_ready)   "
   ]
  },
  {
   "cell_type": "code",
   "execution_count": 207,
   "id": "bf29d189",
   "metadata": {},
   "outputs": [
    {
     "data": {
      "text/plain": [
       "0.7720318040343745"
      ]
     },
     "execution_count": 207,
     "metadata": {},
     "output_type": "execute_result"
    }
   ],
   "source": [
    "R2=r2_score(y_test,y_pred)\n",
    "R2"
   ]
  },
  {
   "cell_type": "code",
   "execution_count": 208,
   "id": "bafbeefd",
   "metadata": {},
   "outputs": [
    {
     "data": {
      "text/plain": [
       "0.7714673516766757"
      ]
     },
     "execution_count": 208,
     "metadata": {},
     "output_type": "execute_result"
    }
   ],
   "source": [
    "Adj_R2= 1 - (1-R2)*(len(y_test)-1)/(len(y_test)-X_test_ready.shape[1]-1)\n",
    "Adj_R2"
   ]
  },
  {
   "cell_type": "code",
   "execution_count": 223,
   "id": "efa2f8c5",
   "metadata": {},
   "outputs": [],
   "source": [
    "Adj_R2_train= 1 - (1-R2)*(len(y_test)-1)/(len(y_test)-X_train_ready.shape[1]-1)\n",
    "Adj_R2_train"
   ]
  },
  {
   "cell_type": "code",
   "execution_count": 214,
   "id": "48fd7517",
   "metadata": {
    "scrolled": true
   },
   "outputs": [
    {
     "name": "stdout",
     "output_type": "stream",
     "text": [
      "31661661600.938\n",
      "103506.36231645556\n",
      "177937.24062415378\n"
     ]
    }
   ],
   "source": [
    "# Error metrics\n",
    "print(mse(y_test,y_pred))\n",
    "print(mae(y_test,y_pred))\n",
    "RMSE = mse(y_test, y_pred, squared=False)\n",
    "print(RMSE)"
   ]
  },
  {
   "cell_type": "code",
   "execution_count": 222,
   "id": "d2c2ef10",
   "metadata": {},
   "outputs": [
    {
     "name": "stdout",
     "output_type": "stream",
     "text": [
      "27321275631.971737\n",
      "100846.98319551034\n",
      "165291.48687083597\n"
     ]
    }
   ],
   "source": [
    "y_pred_train = model.predict(X_train_ready)   \n",
    "print(mse(y_train, y_pred_train))\n",
    "print(mae(y_train, y_pred_train))\n",
    "RMSE_train = mse(y_train, y_pred_train, squared=False)\n",
    "print(RMSE_train)"
   ]
  }
 ],
 "metadata": {
  "kernelspec": {
   "display_name": "Python 3 (ipykernel)",
   "language": "python",
   "name": "python3"
  },
  "language_info": {
   "codemirror_mode": {
    "name": "ipython",
    "version": 3
   },
   "file_extension": ".py",
   "mimetype": "text/x-python",
   "name": "python",
   "nbconvert_exporter": "python",
   "pygments_lexer": "ipython3",
   "version": "3.9.7"
  }
 },
 "nbformat": 4,
 "nbformat_minor": 5
}
