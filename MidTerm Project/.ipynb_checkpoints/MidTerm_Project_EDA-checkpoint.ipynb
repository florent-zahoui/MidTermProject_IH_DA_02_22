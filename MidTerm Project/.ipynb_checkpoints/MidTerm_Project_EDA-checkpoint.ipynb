{
 "cells": [
  {
   "cell_type": "markdown",
   "id": "cfd0f99f",
   "metadata": {},
   "source": [
    "# Project details - regression\n",
    "\n",
    "**Background**: You are working as an analyst for a real estate company. Your company wants to build a machine learning model to predict the selling prices of houses based on a variety of features on which the value of the house is evaluated.\n",
    "\n",
    "**Objective**: The task is to build a model that will predict the price of a house based on features provided in the dataset. The senior management also wants to explore the characteristics of the houses using some business intelligence tool. One of those parameters include understanding which factors are responsible for higher property value - \\$650K and above.\n",
    "The questions have been provided later in the document for which you can use tableau.\n",
    "\n",
    "**Data**: The data set consists of information on some 22,000 properties.  The dataset consisted of historic data of houses sold between May 2014 to May 2015.\n",
    "These are the definitions of data points provided:\n",
    "(Note: For some of the variables that are self explanatory, no definition has been provided)\n",
    "\n",
    "- **Id**: Unique identification number for the property.\n",
    "- **date**: date the house was sold.\n",
    "- **price**: price of the house.\n",
    "- **waterfront**: house which has a view to a waterfront.\n",
    "- **condition**: How good the condition is (overall). **1** indicates worn out property and **5** excellent.\n",
    "- **grade**: Overall grade given to the housing unit, based on King County grading system. 1 poor ,13 excellent.\n",
    "- **Sqft_above**: square footage of house apart from basement.\n",
    "- **Sqft_living15**: Living room area in 2015(implies - some renovations). This might or might not have affected the lotsize area.\n",
    "- **Sqft_lot15**: lotSize area in 2015(implies - some renovations).\n",
    "\n",
    "### Exploring the data\n",
    "\n",
    "We encourage you to thoroughly understand your data and take the necessary steps to prepare your data for modeling before building exploratory or predictive models. Since this is a regression task, you can use linear regression  for building a model. You are also encouraged to use other models in your project if necessary.\n",
    "To explore the data, you can use the techniques that have been discussed in class. Some of them include using the describe method, checking null values, using _matplotlib_ and _seaborn_ for developing visualizations.\n",
    "The data has a number of categorical and numerical variables. Explore the nature of data for these variables before you start with the data cleaning process and then data pre-processing (scaling numerical variables and encoding categorical variables).\n",
    "You can  also use tableau to visually explore the data further.\n",
    "\n",
    "### Model\n",
    "\n",
    "Build a regression model that best fits your data. You can use the measures of accuracies that have been discussed in class"
   ]
  },
  {
   "cell_type": "markdown",
   "id": "066ad357",
   "metadata": {},
   "source": [
    "## First Steps \n",
    "\n",
    "- Check the columns\n",
    "- Identify the column types (numerical/categorical, discrete/continuous ,string/float/date, check the unique values, check the outliers, check the null values and decide (replace or drop)\n",
    "- Importing Libraries\n",
    "- Input Customer Feedback Dataset\n",
    "- Locate Missing Data\n",
    "- Check for Duplicates\n",
    "- Detect Outliers \n",
    "- Normalize Casing "
   ]
  },
  {
   "cell_type": "code",
   "execution_count": 1,
   "id": "b6a0c053",
   "metadata": {},
   "outputs": [],
   "source": [
    "#Importing libraries\n",
    "\n",
    "import pandas as pd\n",
    "import numpy as np"
   ]
  },
  {
   "cell_type": "code",
   "execution_count": 2,
   "id": "73e04b74",
   "metadata": {},
   "outputs": [],
   "source": [
    "#Input dataset\n",
    "df = pd.read_excel(\"Data/Data_MidTerm_Project_Real_State_Regression.xls\")"
   ]
  },
  {
   "cell_type": "code",
   "execution_count": 3,
   "id": "a0d5b4af",
   "metadata": {},
   "outputs": [
    {
     "data": {
      "text/plain": [
       "(21597, 21)"
      ]
     },
     "execution_count": 3,
     "metadata": {},
     "output_type": "execute_result"
    }
   ],
   "source": [
    "df.shape"
   ]
  },
  {
   "cell_type": "code",
   "execution_count": 4,
   "id": "7861f2a0",
   "metadata": {},
   "outputs": [
    {
     "data": {
      "text/plain": [
       "id               0\n",
       "date             0\n",
       "bedrooms         0\n",
       "bathrooms        0\n",
       "sqft_living      0\n",
       "sqft_lot         0\n",
       "floors           0\n",
       "waterfront       0\n",
       "view             0\n",
       "condition        0\n",
       "grade            0\n",
       "sqft_above       0\n",
       "sqft_basement    0\n",
       "yr_built         0\n",
       "yr_renovated     0\n",
       "zipcode          0\n",
       "lat              0\n",
       "long             0\n",
       "sqft_living15    0\n",
       "sqft_lot15       0\n",
       "price            0\n",
       "dtype: int64"
      ]
     },
     "execution_count": 4,
     "metadata": {},
     "output_type": "execute_result"
    }
   ],
   "source": [
    "#Locate Missing Data\n",
    "df.isnull().sum()"
   ]
  },
  {
   "cell_type": "code",
   "execution_count": null,
   "id": "d1305ce7",
   "metadata": {},
   "outputs": [],
   "source": [
    "#Locate incorrect data for every column"
   ]
  },
  {
   "cell_type": "code",
   "execution_count": 24,
   "id": "e4fa9091",
   "metadata": {},
   "outputs": [
    {
     "name": "stdout",
     "output_type": "stream",
     "text": [
      "Empty DataFrame\n",
      "Columns: [id, date, bedrooms, bathrooms, sqft_living, sqft_lot, floors, waterfront, view, condition, grade, sqft_above, sqft_basement, yr_built, yr_renovated, zipcode, lat, long, sqft_living15, sqft_lot15, price]\n",
      "Index: []\n",
      "\n",
      "[0 rows x 21 columns]\n"
     ]
    }
   ],
   "source": [
    "#Why are bathrooms and floors floats and not integers ?\n",
    "#what is the difference between sqft_living and sqft_living 15)?\n",
    "#Should we convert the years of construction to datetime ?\n",
    "#Do we filter the price starting from 650k ?\n",
    "#We could plot according to the tableau_regression file, the price per bedrooms, per bathrooms etc...\n",
    "\n",
    "print(df[df.duplicated()])"
   ]
  },
  {
   "cell_type": "markdown",
   "id": "fb011fc0",
   "metadata": {},
   "source": [
    "- Id : unique values, not needed for the analysis and the regression,to drop\n",
    "- Bedrooms : outliers (11,33), we could keep only the values inside a certain quartile or z value and drop the rest\n",
    "- Bathrooms : check the outliers\n",
    "- SQFT values : maybe we can categorize the values in bins ?\n",
    "- Condition, grade : to categorize ?\n",
    "- yr_renovated : a lot of null values, maybe we could create a renovated ? column with yes/no values instead and categorize it\n",
    "- zipcode :maybe needed for the map,otherwise could be dropped ?\n",
    "- No duplicates"
   ]
  },
  {
   "cell_type": "code",
   "execution_count": 35,
   "id": "0fa9b979",
   "metadata": {},
   "outputs": [
    {
     "data": {
      "text/plain": [
       "0       20683\n",
       "2014       91\n",
       "2013       37\n",
       "2003       36\n",
       "2005       35\n",
       "        ...  \n",
       "1951        1\n",
       "1959        1\n",
       "1948        1\n",
       "1954        1\n",
       "1944        1\n",
       "Name: yr_renovated, Length: 70, dtype: int64"
      ]
     },
     "execution_count": 35,
     "metadata": {},
     "output_type": "execute_result"
    }
   ],
   "source": [
    "#What means the number of views\n",
    "df.yr_renovated.value_counts()"
   ]
  }
 ],
 "metadata": {
  "kernelspec": {
   "display_name": "Python 3 (ipykernel)",
   "language": "python",
   "name": "python3"
  },
  "language_info": {
   "codemirror_mode": {
    "name": "ipython",
    "version": 3
   },
   "file_extension": ".py",
   "mimetype": "text/x-python",
   "name": "python",
   "nbconvert_exporter": "python",
   "pygments_lexer": "ipython3",
   "version": "3.9.7"
  }
 },
 "nbformat": 4,
 "nbformat_minor": 5
}
